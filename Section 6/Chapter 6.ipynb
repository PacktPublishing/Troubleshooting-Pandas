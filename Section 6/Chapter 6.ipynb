{
 "cells": [
  {
   "cell_type": "markdown",
   "metadata": {},
   "source": [
    "# Export errors and presentation problems\n",
    "Now that you are done in pandas, you need to get the data back out into storage or downstream business intelligence databases. Much like importing data, exporting data has its own challenges.\n"
   ]
  },
  {
   "cell_type": "code",
   "execution_count": 4,
   "metadata": {},
   "outputs": [],
   "source": [
    "import pandas as pd\n",
    "import numpy as np"
   ]
  },
  {
   "cell_type": "markdown",
   "metadata": {},
   "source": [
    "## Keeping the right data and formatting into Excel sheets"
   ]
  },
  {
   "cell_type": "code",
   "execution_count": 8,
   "metadata": {},
   "outputs": [],
   "source": [
    "pd.DataFrame([['x', 'y'], ['i', 'j']],\n",
    "    index=['row 1', 'row 2'],\n",
    "    columns=['col 1', 'col 2']).to_excel(\"output.xlsx\")"
   ]
  },
  {
   "cell_type": "code",
   "execution_count": 9,
   "metadata": {},
   "outputs": [
    {
     "data": {
      "text/plain": [
       "OrderedDict([('Sheet1',       col 1 col 2\n",
       "              row 1     x     y\n",
       "              row 2     i     j)])"
      ]
     },
     "execution_count": 9,
     "metadata": {},
     "output_type": "execute_result"
    }
   ],
   "source": [
    "pd.read_excel(\"output.xlsx\", sheet_name=None)"
   ]
  },
  {
   "cell_type": "code",
   "execution_count": 10,
   "metadata": {},
   "outputs": [],
   "source": [
    "pd.DataFrame([['x', 'y'], ['i', 'j']],\n",
    "    index=['row 1', 'row 2'],\n",
    "    columns=['col 1', 'col 2']).to_excel(\"output.xlsx\", sheet_name='Sheet_Custom')"
   ]
  },
  {
   "cell_type": "code",
   "execution_count": 11,
   "metadata": {},
   "outputs": [
    {
     "data": {
      "text/plain": [
       "OrderedDict([('Sheet_Custom',       col 1 col 2\n",
       "              row 1     x     y\n",
       "              row 2     i     j)])"
      ]
     },
     "execution_count": 11,
     "metadata": {},
     "output_type": "execute_result"
    }
   ],
   "source": [
    "pd.read_excel(\"output.xlsx\", sheet_name=None)"
   ]
  },
  {
   "cell_type": "code",
   "execution_count": 14,
   "metadata": {},
   "outputs": [],
   "source": [
    "with pd.ExcelWriter('output.xlsx') as writer:\n",
    "    pd.DataFrame([['x', 'y'], ['i', 'j']],\n",
    "    index=['row 1', 'row 2'],\n",
    "    columns=['col 1', 'col 2']).to_excel(writer)"
   ]
  },
  {
   "cell_type": "code",
   "execution_count": 15,
   "metadata": {},
   "outputs": [
    {
     "data": {
      "text/plain": [
       "OrderedDict([('Sheet1',       col 1 col 2\n",
       "              row 1     x     y\n",
       "              row 2     i     j)])"
      ]
     },
     "execution_count": 15,
     "metadata": {},
     "output_type": "execute_result"
    }
   ],
   "source": [
    "pd.read_excel(\"output.xlsx\", sheet_name=None)"
   ]
  },
  {
   "cell_type": "code",
   "execution_count": 16,
   "metadata": {},
   "outputs": [],
   "source": [
    "# multiple sheets in one go\n",
    "\n",
    "with pd.ExcelWriter('output.xlsx') as writer:\n",
    "    pd.DataFrame([['x', 'y'], ['i', 'j']],\n",
    "    index=['row 1', 'row 2'],\n",
    "    columns=['col 1', 'col 2']).to_excel(writer, sheet_name='Sheet1')\n",
    "    \n",
    "    pd.DataFrame([['x', 'y'], ['i', 'j']],\n",
    "    index=['row 1', 'row 2'],\n",
    "    columns=['col 1', 'col 2']).to_excel(writer, sheet_name='Sheet2')"
   ]
  },
  {
   "cell_type": "code",
   "execution_count": 17,
   "metadata": {},
   "outputs": [
    {
     "data": {
      "text/plain": [
       "OrderedDict([('Sheet1',       col 1 col 2\n",
       "              row 1     x     y\n",
       "              row 2     i     j), ('Sheet2',       col 1 col 2\n",
       "              row 1     x     y\n",
       "              row 2     i     j)])"
      ]
     },
     "execution_count": 17,
     "metadata": {},
     "output_type": "execute_result"
    }
   ],
   "source": [
    "pd.read_excel(\"output.xlsx\", sheet_name=None)"
   ]
  },
  {
   "cell_type": "code",
   "execution_count": 27,
   "metadata": {},
   "outputs": [],
   "source": [
    "pd.DataFrame(\n",
    "    [['x', 'y'], ['i', 'j']],\n",
    "    index=['row 1', 'row 2'],\n",
    "    columns=['col 1', 'col 2']\n",
    ").to_excel(\"output.xlsx\", index=False)"
   ]
  },
  {
   "cell_type": "code",
   "execution_count": 28,
   "metadata": {},
   "outputs": [
    {
     "data": {
      "text/plain": [
       "OrderedDict([('Sheet1',   col 1 col 2\n",
       "              0     x     y\n",
       "              1     i     j)])"
      ]
     },
     "execution_count": 28,
     "metadata": {},
     "output_type": "execute_result"
    }
   ],
   "source": [
    "pd.read_excel(\"output.xlsx\", sheet_name=None)"
   ]
  },
  {
   "cell_type": "code",
   "execution_count": 29,
   "metadata": {},
   "outputs": [
    {
     "data": {
      "text/plain": [
       "OrderedDict([('Sheet1',           col 1 col 2\n",
       "              NaN row 1     x     y\n",
       "                  row 2     i     j)])"
      ]
     },
     "execution_count": 29,
     "metadata": {},
     "output_type": "execute_result"
    }
   ],
   "source": [
    "pd.DataFrame(\n",
    "    [['x', 'y'], ['i', 'j']],\n",
    "    index=['row 1', 'row 2'],\n",
    "    columns=['col 1', 'col 2']\n",
    ").to_excel(\"output.xlsx\", startcol=1)\n",
    "pd.read_excel(\"output.xlsx\", sheet_name=None)"
   ]
  },
  {
   "cell_type": "code",
   "execution_count": 30,
   "metadata": {},
   "outputs": [
    {
     "data": {
      "text/plain": [
       "OrderedDict([('Sheet1',   Unnamed: 0 col 1 col 2\n",
       "              0      row 1     x     y\n",
       "              1      row 2     i     j)])"
      ]
     },
     "execution_count": 30,
     "metadata": {},
     "output_type": "execute_result"
    }
   ],
   "source": [
    "pd.DataFrame(\n",
    "    [['x', 'y'], ['i', 'j']],\n",
    "    index=['row 1', 'row 2'],\n",
    "    columns=['col 1', 'col 2']\n",
    ").to_excel(\"output.xlsx\", startrow=1)\n",
    "pd.read_excel(\"output.xlsx\", sheet_name=None)"
   ]
  },
  {
   "cell_type": "markdown",
   "metadata": {},
   "source": [
    "## Dealing with incompatible data for HTML and JSON "
   ]
  },
  {
   "cell_type": "code",
   "execution_count": 32,
   "metadata": {},
   "outputs": [
    {
     "data": {
      "text/html": [
       "<div>\n",
       "<style scoped>\n",
       "    .dataframe tbody tr th:only-of-type {\n",
       "        vertical-align: middle;\n",
       "    }\n",
       "\n",
       "    .dataframe tbody tr th {\n",
       "        vertical-align: top;\n",
       "    }\n",
       "\n",
       "    .dataframe thead th {\n",
       "        text-align: right;\n",
       "    }\n",
       "</style>\n",
       "<table border=\"1\" class=\"dataframe\">\n",
       "  <thead>\n",
       "    <tr style=\"text-align: right;\">\n",
       "      <th></th>\n",
       "      <th>A</th>\n",
       "      <th>B</th>\n",
       "      <th>C</th>\n",
       "      <th>D</th>\n",
       "    </tr>\n",
       "  </thead>\n",
       "  <tbody>\n",
       "    <tr>\n",
       "      <th>SltLxkEubm</th>\n",
       "      <td>-0.594240</td>\n",
       "      <td>-1.456339</td>\n",
       "      <td>0.596866</td>\n",
       "      <td>0.013529</td>\n",
       "    </tr>\n",
       "    <tr>\n",
       "      <th>OJ0b4xxx9d</th>\n",
       "      <td>0.685463</td>\n",
       "      <td>0.894140</td>\n",
       "      <td>-0.068299</td>\n",
       "      <td>-0.637802</td>\n",
       "    </tr>\n",
       "    <tr>\n",
       "      <th>6dSoJHhBxh</th>\n",
       "      <td>-1.143051</td>\n",
       "      <td>0.617140</td>\n",
       "      <td>-0.167066</td>\n",
       "      <td>-0.512906</td>\n",
       "    </tr>\n",
       "    <tr>\n",
       "      <th>ZVvbPYrz4T</th>\n",
       "      <td>-1.252238</td>\n",
       "      <td>-1.350863</td>\n",
       "      <td>-0.139804</td>\n",
       "      <td>0.226549</td>\n",
       "    </tr>\n",
       "    <tr>\n",
       "      <th>xu4EuzSGgB</th>\n",
       "      <td>0.791363</td>\n",
       "      <td>-0.000346</td>\n",
       "      <td>0.730952</td>\n",
       "      <td>2.875351</td>\n",
       "    </tr>\n",
       "  </tbody>\n",
       "</table>\n",
       "</div>"
      ],
      "text/plain": [
       "                   A         B         C         D\n",
       "SltLxkEubm -0.594240 -1.456339  0.596866  0.013529\n",
       "OJ0b4xxx9d  0.685463  0.894140 -0.068299 -0.637802\n",
       "6dSoJHhBxh -1.143051  0.617140 -0.167066 -0.512906\n",
       "ZVvbPYrz4T -1.252238 -1.350863 -0.139804  0.226549\n",
       "xu4EuzSGgB  0.791363 -0.000346  0.730952  2.875351"
      ]
     },
     "execution_count": 32,
     "metadata": {},
     "output_type": "execute_result"
    }
   ],
   "source": [
    "import pandas.util.testing as tm\n",
    "df = tm.makeDataFrame()\n",
    "df.head()"
   ]
  },
  {
   "cell_type": "code",
   "execution_count": 34,
   "metadata": {},
   "outputs": [
    {
     "data": {
      "text/html": [
       "<style  type=\"text/css\" >\n",
       "</style>  \n",
       "<table id=\"T_80226df4_270a_11e9_b317_e4b318c9cbeb\" > \n",
       "<thead>    <tr> \n",
       "        <th class=\"blank level0\" ></th> \n",
       "        <th class=\"col_heading level0 col0\" >A</th> \n",
       "        <th class=\"col_heading level0 col1\" >B</th> \n",
       "        <th class=\"col_heading level0 col2\" >C</th> \n",
       "        <th class=\"col_heading level0 col3\" >D</th> \n",
       "    </tr></thead> \n",
       "<tbody>    <tr> \n",
       "        <th id=\"T_80226df4_270a_11e9_b317_e4b318c9cbeblevel0_row0\" class=\"row_heading level0 row0\" >SltLxkEubm</th> \n",
       "        <td id=\"T_80226df4_270a_11e9_b317_e4b318c9cbebrow0_col0\" class=\"data row0 col0\" >-0.59424</td> \n",
       "        <td id=\"T_80226df4_270a_11e9_b317_e4b318c9cbebrow0_col1\" class=\"data row0 col1\" >-1.45634</td> \n",
       "        <td id=\"T_80226df4_270a_11e9_b317_e4b318c9cbebrow0_col2\" class=\"data row0 col2\" >0.596866</td> \n",
       "        <td id=\"T_80226df4_270a_11e9_b317_e4b318c9cbebrow0_col3\" class=\"data row0 col3\" >0.013529</td> \n",
       "    </tr>    <tr> \n",
       "        <th id=\"T_80226df4_270a_11e9_b317_e4b318c9cbeblevel0_row1\" class=\"row_heading level0 row1\" >OJ0b4xxx9d</th> \n",
       "        <td id=\"T_80226df4_270a_11e9_b317_e4b318c9cbebrow1_col0\" class=\"data row1 col0\" >0.685463</td> \n",
       "        <td id=\"T_80226df4_270a_11e9_b317_e4b318c9cbebrow1_col1\" class=\"data row1 col1\" >0.89414</td> \n",
       "        <td id=\"T_80226df4_270a_11e9_b317_e4b318c9cbebrow1_col2\" class=\"data row1 col2\" >-0.068299</td> \n",
       "        <td id=\"T_80226df4_270a_11e9_b317_e4b318c9cbebrow1_col3\" class=\"data row1 col3\" >-0.637802</td> \n",
       "    </tr>    <tr> \n",
       "        <th id=\"T_80226df4_270a_11e9_b317_e4b318c9cbeblevel0_row2\" class=\"row_heading level0 row2\" >6dSoJHhBxh</th> \n",
       "        <td id=\"T_80226df4_270a_11e9_b317_e4b318c9cbebrow2_col0\" class=\"data row2 col0\" >-1.14305</td> \n",
       "        <td id=\"T_80226df4_270a_11e9_b317_e4b318c9cbebrow2_col1\" class=\"data row2 col1\" >0.61714</td> \n",
       "        <td id=\"T_80226df4_270a_11e9_b317_e4b318c9cbebrow2_col2\" class=\"data row2 col2\" >-0.167066</td> \n",
       "        <td id=\"T_80226df4_270a_11e9_b317_e4b318c9cbebrow2_col3\" class=\"data row2 col3\" >-0.512906</td> \n",
       "    </tr>    <tr> \n",
       "        <th id=\"T_80226df4_270a_11e9_b317_e4b318c9cbeblevel0_row3\" class=\"row_heading level0 row3\" >ZVvbPYrz4T</th> \n",
       "        <td id=\"T_80226df4_270a_11e9_b317_e4b318c9cbebrow3_col0\" class=\"data row3 col0\" >-1.25224</td> \n",
       "        <td id=\"T_80226df4_270a_11e9_b317_e4b318c9cbebrow3_col1\" class=\"data row3 col1\" >-1.35086</td> \n",
       "        <td id=\"T_80226df4_270a_11e9_b317_e4b318c9cbebrow3_col2\" class=\"data row3 col2\" >-0.139804</td> \n",
       "        <td id=\"T_80226df4_270a_11e9_b317_e4b318c9cbebrow3_col3\" class=\"data row3 col3\" >0.226549</td> \n",
       "    </tr>    <tr> \n",
       "        <th id=\"T_80226df4_270a_11e9_b317_e4b318c9cbeblevel0_row4\" class=\"row_heading level0 row4\" >xu4EuzSGgB</th> \n",
       "        <td id=\"T_80226df4_270a_11e9_b317_e4b318c9cbebrow4_col0\" class=\"data row4 col0\" >0.791363</td> \n",
       "        <td id=\"T_80226df4_270a_11e9_b317_e4b318c9cbebrow4_col1\" class=\"data row4 col1\" >-0.000345574</td> \n",
       "        <td id=\"T_80226df4_270a_11e9_b317_e4b318c9cbebrow4_col2\" class=\"data row4 col2\" >0.730952</td> \n",
       "        <td id=\"T_80226df4_270a_11e9_b317_e4b318c9cbebrow4_col3\" class=\"data row4 col3\" >2.87535</td> \n",
       "    </tr></tbody> \n",
       "</table> "
      ],
      "text/plain": [
       "<pandas.io.formats.style.Styler at 0x1631b8367f0>"
      ]
     },
     "execution_count": 34,
     "metadata": {},
     "output_type": "execute_result"
    }
   ],
   "source": [
    "df.head().style"
   ]
  },
  {
   "cell_type": "code",
   "execution_count": 35,
   "metadata": {},
   "outputs": [
    {
     "data": {
      "text/plain": [
       "'<style  type=\"text/css\" >\\n</style>  \\n<table id=\"T_87fd9578_270a_11e9_9c4e_e4b318c9cbeb\" > \\n<thead>    <tr> \\n        <th class=\"blank level0\" ></th> \\n        <th class=\"col_heading level0 col0\" >A</th> \\n        <th class=\"col_heading level0 col1\" >B</th> \\n        <th class=\"col_heading level0 col2\" >C</th> \\n        <th class=\"col_heading level0 col3\" >D</th> \\n    </tr></thead> \\n<tbody>    <tr> \\n        <th id=\"T_87fd9578_270a_11e9_9c4e_e4b318c9cbeblevel0_row0\" class=\"row_heading level0 row0\" >SltLxkEubm</th> \\n        <td id=\"T_87fd9578_270a_11e9_9c4e_e4b318c9cbebrow0_col0\" class=\"data row0 col0\" >-0.59424</td> \\n        <td id=\"T_87fd9578_270a_11e9_9c4e_e4b318c9cbebrow0_col1\" class=\"data row0 col1\" >-1.45634</td> \\n        <td id=\"T_87fd9578_270a_11e9_9c4e_e4b318c9cbebrow0_col2\" class=\"data row0 col2\" >0.596866</td> \\n        <td id=\"T_87fd9578_270a_11e9_9c4e_e4b318c9cbebrow0_col3\" class=\"data row0 col3\" >0.013529</td> \\n    </tr>    <tr> \\n        <th id=\"T_87fd9578_270a_11e9_9c4e_e4b318c9cbeblevel0_row1\" class=\"row_heading level0 row1\" >OJ0b4xxx9d</th> \\n        <td id=\"T_87fd9578_270a_11e9_9c4e_e4b318c9cbebrow1_col0\" class=\"data row1 col0\" >0.685463</td> \\n        <td id=\"T_87fd9578_270a_11e9_9c4e_e4b318c9cbebrow1_col1\" class=\"data row1 col1\" >0.89414</td> \\n        <td id=\"T_87fd9578_270a_11e9_9c4e_e4b318c9cbebrow1_col2\" class=\"data row1 col2\" >-0.068299</td> \\n        <td id=\"T_87fd9578_270a_11e9_9c4e_e4b318c9cbebrow1_col3\" class=\"data row1 col3\" >-0.637802</td> \\n    </tr>    <tr> \\n        <th id=\"T_87fd9578_270a_11e9_9c4e_e4b318c9cbeblevel0_row2\" class=\"row_heading level0 row2\" >6dSoJHhBxh</th> \\n        <td id=\"T_87fd9578_270a_11e9_9c4e_e4b318c9cbebrow2_col0\" class=\"data row2 col0\" >-1.14305</td> \\n        <td id=\"T_87fd9578_270a_11e9_9c4e_e4b318c9cbebrow2_col1\" class=\"data row2 col1\" >0.61714</td> \\n        <td id=\"T_87fd9578_270a_11e9_9c4e_e4b318c9cbebrow2_col2\" class=\"data row2 col2\" >-0.167066</td> \\n        <td id=\"T_87fd9578_270a_11e9_9c4e_e4b318c9cbebrow2_col3\" class=\"data row2 col3\" >-0.512906</td> \\n    </tr>    <tr> \\n        <th id=\"T_87fd9578_270a_11e9_9c4e_e4b318c9cbeblevel0_row3\" class=\"row_heading level0 row3\" >ZVvbPYrz4T</th> \\n        <td id=\"T_87fd9578_270a_11e9_9c4e_e4b318c9cbebrow3_col0\" class=\"data row3 col0\" >-1.25224</td> \\n        <td id=\"T_87fd9578_270a_11e9_9c4e_e4b318c9cbebrow3_col1\" class=\"data row3 col1\" >-1.35086</td> \\n        <td id=\"T_87fd9578_270a_11e9_9c4e_e4b318c9cbebrow3_col2\" class=\"data row3 col2\" >-0.139804</td> \\n        <td id=\"T_87fd9578_270a_11e9_9c4e_e4b318c9cbebrow3_col3\" class=\"data row3 col3\" >0.226549</td> \\n    </tr>    <tr> \\n        <th id=\"T_87fd9578_270a_11e9_9c4e_e4b318c9cbeblevel0_row4\" class=\"row_heading level0 row4\" >xu4EuzSGgB</th> \\n        <td id=\"T_87fd9578_270a_11e9_9c4e_e4b318c9cbebrow4_col0\" class=\"data row4 col0\" >0.791363</td> \\n        <td id=\"T_87fd9578_270a_11e9_9c4e_e4b318c9cbebrow4_col1\" class=\"data row4 col1\" >-0.000345574</td> \\n        <td id=\"T_87fd9578_270a_11e9_9c4e_e4b318c9cbebrow4_col2\" class=\"data row4 col2\" >0.730952</td> \\n        <td id=\"T_87fd9578_270a_11e9_9c4e_e4b318c9cbebrow4_col3\" class=\"data row4 col3\" >2.87535</td> \\n    </tr></tbody> \\n</table> '"
      ]
     },
     "execution_count": 35,
     "metadata": {},
     "output_type": "execute_result"
    }
   ],
   "source": [
    "df.head().style.render()"
   ]
  },
  {
   "cell_type": "code",
   "execution_count": 37,
   "metadata": {},
   "outputs": [
    {
     "data": {
      "text/html": [
       "<style  type=\"text/css\" >\n",
       "    #T_b7af53b8_270a_11e9_852e_e4b318c9cbebrow0_col0 {\n",
       "            color:  black;\n",
       "        }    #T_b7af53b8_270a_11e9_852e_e4b318c9cbebrow0_col1 {\n",
       "            color:  black;\n",
       "        }    #T_b7af53b8_270a_11e9_852e_e4b318c9cbebrow0_col2 {\n",
       "            color:  green;\n",
       "        }    #T_b7af53b8_270a_11e9_852e_e4b318c9cbebrow0_col3 {\n",
       "            color:  green;\n",
       "        }    #T_b7af53b8_270a_11e9_852e_e4b318c9cbebrow1_col0 {\n",
       "            color:  green;\n",
       "        }    #T_b7af53b8_270a_11e9_852e_e4b318c9cbebrow1_col1 {\n",
       "            color:  green;\n",
       "        }    #T_b7af53b8_270a_11e9_852e_e4b318c9cbebrow1_col2 {\n",
       "            color:  black;\n",
       "        }    #T_b7af53b8_270a_11e9_852e_e4b318c9cbebrow1_col3 {\n",
       "            color:  black;\n",
       "        }    #T_b7af53b8_270a_11e9_852e_e4b318c9cbebrow2_col0 {\n",
       "            color:  black;\n",
       "        }    #T_b7af53b8_270a_11e9_852e_e4b318c9cbebrow2_col1 {\n",
       "            color:  green;\n",
       "        }    #T_b7af53b8_270a_11e9_852e_e4b318c9cbebrow2_col2 {\n",
       "            color:  black;\n",
       "        }    #T_b7af53b8_270a_11e9_852e_e4b318c9cbebrow2_col3 {\n",
       "            color:  black;\n",
       "        }    #T_b7af53b8_270a_11e9_852e_e4b318c9cbebrow3_col0 {\n",
       "            color:  black;\n",
       "        }    #T_b7af53b8_270a_11e9_852e_e4b318c9cbebrow3_col1 {\n",
       "            color:  black;\n",
       "        }    #T_b7af53b8_270a_11e9_852e_e4b318c9cbebrow3_col2 {\n",
       "            color:  black;\n",
       "        }    #T_b7af53b8_270a_11e9_852e_e4b318c9cbebrow3_col3 {\n",
       "            color:  green;\n",
       "        }    #T_b7af53b8_270a_11e9_852e_e4b318c9cbebrow4_col0 {\n",
       "            color:  green;\n",
       "        }    #T_b7af53b8_270a_11e9_852e_e4b318c9cbebrow4_col1 {\n",
       "            color:  black;\n",
       "        }    #T_b7af53b8_270a_11e9_852e_e4b318c9cbebrow4_col2 {\n",
       "            color:  green;\n",
       "        }    #T_b7af53b8_270a_11e9_852e_e4b318c9cbebrow4_col3 {\n",
       "            color:  green;\n",
       "        }</style>  \n",
       "<table id=\"T_b7af53b8_270a_11e9_852e_e4b318c9cbeb\" > \n",
       "<thead>    <tr> \n",
       "        <th class=\"blank level0\" ></th> \n",
       "        <th class=\"col_heading level0 col0\" >A</th> \n",
       "        <th class=\"col_heading level0 col1\" >B</th> \n",
       "        <th class=\"col_heading level0 col2\" >C</th> \n",
       "        <th class=\"col_heading level0 col3\" >D</th> \n",
       "    </tr></thead> \n",
       "<tbody>    <tr> \n",
       "        <th id=\"T_b7af53b8_270a_11e9_852e_e4b318c9cbeblevel0_row0\" class=\"row_heading level0 row0\" >SltLxkEubm</th> \n",
       "        <td id=\"T_b7af53b8_270a_11e9_852e_e4b318c9cbebrow0_col0\" class=\"data row0 col0\" >-0.59424</td> \n",
       "        <td id=\"T_b7af53b8_270a_11e9_852e_e4b318c9cbebrow0_col1\" class=\"data row0 col1\" >-1.45634</td> \n",
       "        <td id=\"T_b7af53b8_270a_11e9_852e_e4b318c9cbebrow0_col2\" class=\"data row0 col2\" >0.596866</td> \n",
       "        <td id=\"T_b7af53b8_270a_11e9_852e_e4b318c9cbebrow0_col3\" class=\"data row0 col3\" >0.013529</td> \n",
       "    </tr>    <tr> \n",
       "        <th id=\"T_b7af53b8_270a_11e9_852e_e4b318c9cbeblevel0_row1\" class=\"row_heading level0 row1\" >OJ0b4xxx9d</th> \n",
       "        <td id=\"T_b7af53b8_270a_11e9_852e_e4b318c9cbebrow1_col0\" class=\"data row1 col0\" >0.685463</td> \n",
       "        <td id=\"T_b7af53b8_270a_11e9_852e_e4b318c9cbebrow1_col1\" class=\"data row1 col1\" >0.89414</td> \n",
       "        <td id=\"T_b7af53b8_270a_11e9_852e_e4b318c9cbebrow1_col2\" class=\"data row1 col2\" >-0.068299</td> \n",
       "        <td id=\"T_b7af53b8_270a_11e9_852e_e4b318c9cbebrow1_col3\" class=\"data row1 col3\" >-0.637802</td> \n",
       "    </tr>    <tr> \n",
       "        <th id=\"T_b7af53b8_270a_11e9_852e_e4b318c9cbeblevel0_row2\" class=\"row_heading level0 row2\" >6dSoJHhBxh</th> \n",
       "        <td id=\"T_b7af53b8_270a_11e9_852e_e4b318c9cbebrow2_col0\" class=\"data row2 col0\" >-1.14305</td> \n",
       "        <td id=\"T_b7af53b8_270a_11e9_852e_e4b318c9cbebrow2_col1\" class=\"data row2 col1\" >0.61714</td> \n",
       "        <td id=\"T_b7af53b8_270a_11e9_852e_e4b318c9cbebrow2_col2\" class=\"data row2 col2\" >-0.167066</td> \n",
       "        <td id=\"T_b7af53b8_270a_11e9_852e_e4b318c9cbebrow2_col3\" class=\"data row2 col3\" >-0.512906</td> \n",
       "    </tr>    <tr> \n",
       "        <th id=\"T_b7af53b8_270a_11e9_852e_e4b318c9cbeblevel0_row3\" class=\"row_heading level0 row3\" >ZVvbPYrz4T</th> \n",
       "        <td id=\"T_b7af53b8_270a_11e9_852e_e4b318c9cbebrow3_col0\" class=\"data row3 col0\" >-1.25224</td> \n",
       "        <td id=\"T_b7af53b8_270a_11e9_852e_e4b318c9cbebrow3_col1\" class=\"data row3 col1\" >-1.35086</td> \n",
       "        <td id=\"T_b7af53b8_270a_11e9_852e_e4b318c9cbebrow3_col2\" class=\"data row3 col2\" >-0.139804</td> \n",
       "        <td id=\"T_b7af53b8_270a_11e9_852e_e4b318c9cbebrow3_col3\" class=\"data row3 col3\" >0.226549</td> \n",
       "    </tr>    <tr> \n",
       "        <th id=\"T_b7af53b8_270a_11e9_852e_e4b318c9cbeblevel0_row4\" class=\"row_heading level0 row4\" >xu4EuzSGgB</th> \n",
       "        <td id=\"T_b7af53b8_270a_11e9_852e_e4b318c9cbebrow4_col0\" class=\"data row4 col0\" >0.791363</td> \n",
       "        <td id=\"T_b7af53b8_270a_11e9_852e_e4b318c9cbebrow4_col1\" class=\"data row4 col1\" >-0.000345574</td> \n",
       "        <td id=\"T_b7af53b8_270a_11e9_852e_e4b318c9cbebrow4_col2\" class=\"data row4 col2\" >0.730952</td> \n",
       "        <td id=\"T_b7af53b8_270a_11e9_852e_e4b318c9cbebrow4_col3\" class=\"data row4 col3\" >2.87535</td> \n",
       "    </tr></tbody> \n",
       "</table> "
      ],
      "text/plain": [
       "<pandas.io.formats.style.Styler at 0x1631b871d68>"
      ]
     },
     "execution_count": 37,
     "metadata": {},
     "output_type": "execute_result"
    }
   ],
   "source": [
    "def color_pos_green(val):\n",
    "    color = 'green' if val > 0 else 'black'\n",
    "    return 'color: %s' % color\n",
    "\n",
    "df.head().style.applymap(color_pos_green)"
   ]
  },
  {
   "cell_type": "code",
   "execution_count": 39,
   "metadata": {},
   "outputs": [
    {
     "data": {
      "text/html": [
       "<style  type=\"text/css\" >\n",
       "    #T_d3d2b246_270a_11e9_914d_e4b318c9cbebrow0_col1 {\n",
       "            background-color:  aqua;\n",
       "        }    #T_d3d2b246_270a_11e9_914d_e4b318c9cbebrow1_col3 {\n",
       "            background-color:  aqua;\n",
       "        }    #T_d3d2b246_270a_11e9_914d_e4b318c9cbebrow2_col2 {\n",
       "            background-color:  aqua;\n",
       "        }    #T_d3d2b246_270a_11e9_914d_e4b318c9cbebrow3_col0 {\n",
       "            background-color:  aqua;\n",
       "        }</style>  \n",
       "<table id=\"T_d3d2b246_270a_11e9_914d_e4b318c9cbeb\" > \n",
       "<thead>    <tr> \n",
       "        <th class=\"blank level0\" ></th> \n",
       "        <th class=\"col_heading level0 col0\" >A</th> \n",
       "        <th class=\"col_heading level0 col1\" >B</th> \n",
       "        <th class=\"col_heading level0 col2\" >C</th> \n",
       "        <th class=\"col_heading level0 col3\" >D</th> \n",
       "    </tr></thead> \n",
       "<tbody>    <tr> \n",
       "        <th id=\"T_d3d2b246_270a_11e9_914d_e4b318c9cbeblevel0_row0\" class=\"row_heading level0 row0\" >SltLxkEubm</th> \n",
       "        <td id=\"T_d3d2b246_270a_11e9_914d_e4b318c9cbebrow0_col0\" class=\"data row0 col0\" >-0.59424</td> \n",
       "        <td id=\"T_d3d2b246_270a_11e9_914d_e4b318c9cbebrow0_col1\" class=\"data row0 col1\" >-1.45634</td> \n",
       "        <td id=\"T_d3d2b246_270a_11e9_914d_e4b318c9cbebrow0_col2\" class=\"data row0 col2\" >0.596866</td> \n",
       "        <td id=\"T_d3d2b246_270a_11e9_914d_e4b318c9cbebrow0_col3\" class=\"data row0 col3\" >0.013529</td> \n",
       "    </tr>    <tr> \n",
       "        <th id=\"T_d3d2b246_270a_11e9_914d_e4b318c9cbeblevel0_row1\" class=\"row_heading level0 row1\" >OJ0b4xxx9d</th> \n",
       "        <td id=\"T_d3d2b246_270a_11e9_914d_e4b318c9cbebrow1_col0\" class=\"data row1 col0\" >0.685463</td> \n",
       "        <td id=\"T_d3d2b246_270a_11e9_914d_e4b318c9cbebrow1_col1\" class=\"data row1 col1\" >0.89414</td> \n",
       "        <td id=\"T_d3d2b246_270a_11e9_914d_e4b318c9cbebrow1_col2\" class=\"data row1 col2\" >-0.068299</td> \n",
       "        <td id=\"T_d3d2b246_270a_11e9_914d_e4b318c9cbebrow1_col3\" class=\"data row1 col3\" >-0.637802</td> \n",
       "    </tr>    <tr> \n",
       "        <th id=\"T_d3d2b246_270a_11e9_914d_e4b318c9cbeblevel0_row2\" class=\"row_heading level0 row2\" >6dSoJHhBxh</th> \n",
       "        <td id=\"T_d3d2b246_270a_11e9_914d_e4b318c9cbebrow2_col0\" class=\"data row2 col0\" >-1.14305</td> \n",
       "        <td id=\"T_d3d2b246_270a_11e9_914d_e4b318c9cbebrow2_col1\" class=\"data row2 col1\" >0.61714</td> \n",
       "        <td id=\"T_d3d2b246_270a_11e9_914d_e4b318c9cbebrow2_col2\" class=\"data row2 col2\" >-0.167066</td> \n",
       "        <td id=\"T_d3d2b246_270a_11e9_914d_e4b318c9cbebrow2_col3\" class=\"data row2 col3\" >-0.512906</td> \n",
       "    </tr>    <tr> \n",
       "        <th id=\"T_d3d2b246_270a_11e9_914d_e4b318c9cbeblevel0_row3\" class=\"row_heading level0 row3\" >ZVvbPYrz4T</th> \n",
       "        <td id=\"T_d3d2b246_270a_11e9_914d_e4b318c9cbebrow3_col0\" class=\"data row3 col0\" >-1.25224</td> \n",
       "        <td id=\"T_d3d2b246_270a_11e9_914d_e4b318c9cbebrow3_col1\" class=\"data row3 col1\" >-1.35086</td> \n",
       "        <td id=\"T_d3d2b246_270a_11e9_914d_e4b318c9cbebrow3_col2\" class=\"data row3 col2\" >-0.139804</td> \n",
       "        <td id=\"T_d3d2b246_270a_11e9_914d_e4b318c9cbebrow3_col3\" class=\"data row3 col3\" >0.226549</td> \n",
       "    </tr>    <tr> \n",
       "        <th id=\"T_d3d2b246_270a_11e9_914d_e4b318c9cbeblevel0_row4\" class=\"row_heading level0 row4\" >xu4EuzSGgB</th> \n",
       "        <td id=\"T_d3d2b246_270a_11e9_914d_e4b318c9cbebrow4_col0\" class=\"data row4 col0\" >0.791363</td> \n",
       "        <td id=\"T_d3d2b246_270a_11e9_914d_e4b318c9cbebrow4_col1\" class=\"data row4 col1\" >-0.000345574</td> \n",
       "        <td id=\"T_d3d2b246_270a_11e9_914d_e4b318c9cbebrow4_col2\" class=\"data row4 col2\" >0.730952</td> \n",
       "        <td id=\"T_d3d2b246_270a_11e9_914d_e4b318c9cbebrow4_col3\" class=\"data row4 col3\" >2.87535</td> \n",
       "    </tr></tbody> \n",
       "</table> "
      ],
      "text/plain": [
       "<pandas.io.formats.style.Styler at 0x1631b836c18>"
      ]
     },
     "execution_count": 39,
     "metadata": {},
     "output_type": "execute_result"
    }
   ],
   "source": [
    "def highlight_min(s):\n",
    "    is_min = s == s.min()\n",
    "    return ['background-color: aqua' if v else '' for v in is_min]\n",
    "\n",
    "df.head().style.apply(highlight_min)"
   ]
  },
  {
   "cell_type": "code",
   "execution_count": 40,
   "metadata": {},
   "outputs": [
    {
     "data": {
      "text/html": [
       "<style  type=\"text/css\" >\n",
       "    #T_ddd15bd2_270a_11e9_a5df_e4b318c9cbebrow0_col0 {\n",
       "            : ;\n",
       "            color:  black;\n",
       "        }    #T_ddd15bd2_270a_11e9_a5df_e4b318c9cbebrow0_col1 {\n",
       "            background-color:  aqua;\n",
       "            color:  black;\n",
       "        }    #T_ddd15bd2_270a_11e9_a5df_e4b318c9cbebrow0_col2 {\n",
       "            : ;\n",
       "            color:  green;\n",
       "        }    #T_ddd15bd2_270a_11e9_a5df_e4b318c9cbebrow0_col3 {\n",
       "            : ;\n",
       "            color:  green;\n",
       "        }    #T_ddd15bd2_270a_11e9_a5df_e4b318c9cbebrow1_col0 {\n",
       "            : ;\n",
       "            color:  green;\n",
       "        }    #T_ddd15bd2_270a_11e9_a5df_e4b318c9cbebrow1_col1 {\n",
       "            : ;\n",
       "            color:  green;\n",
       "        }    #T_ddd15bd2_270a_11e9_a5df_e4b318c9cbebrow1_col2 {\n",
       "            : ;\n",
       "            color:  black;\n",
       "        }    #T_ddd15bd2_270a_11e9_a5df_e4b318c9cbebrow1_col3 {\n",
       "            background-color:  aqua;\n",
       "            color:  black;\n",
       "        }    #T_ddd15bd2_270a_11e9_a5df_e4b318c9cbebrow2_col0 {\n",
       "            : ;\n",
       "            color:  black;\n",
       "        }    #T_ddd15bd2_270a_11e9_a5df_e4b318c9cbebrow2_col1 {\n",
       "            : ;\n",
       "            color:  green;\n",
       "        }    #T_ddd15bd2_270a_11e9_a5df_e4b318c9cbebrow2_col2 {\n",
       "            background-color:  aqua;\n",
       "            color:  black;\n",
       "        }    #T_ddd15bd2_270a_11e9_a5df_e4b318c9cbebrow2_col3 {\n",
       "            : ;\n",
       "            color:  black;\n",
       "        }    #T_ddd15bd2_270a_11e9_a5df_e4b318c9cbebrow3_col0 {\n",
       "            background-color:  aqua;\n",
       "            color:  black;\n",
       "        }    #T_ddd15bd2_270a_11e9_a5df_e4b318c9cbebrow3_col1 {\n",
       "            : ;\n",
       "            color:  black;\n",
       "        }    #T_ddd15bd2_270a_11e9_a5df_e4b318c9cbebrow3_col2 {\n",
       "            : ;\n",
       "            color:  black;\n",
       "        }    #T_ddd15bd2_270a_11e9_a5df_e4b318c9cbebrow3_col3 {\n",
       "            : ;\n",
       "            color:  green;\n",
       "        }    #T_ddd15bd2_270a_11e9_a5df_e4b318c9cbebrow4_col0 {\n",
       "            : ;\n",
       "            color:  green;\n",
       "        }    #T_ddd15bd2_270a_11e9_a5df_e4b318c9cbebrow4_col1 {\n",
       "            : ;\n",
       "            color:  black;\n",
       "        }    #T_ddd15bd2_270a_11e9_a5df_e4b318c9cbebrow4_col2 {\n",
       "            : ;\n",
       "            color:  green;\n",
       "        }    #T_ddd15bd2_270a_11e9_a5df_e4b318c9cbebrow4_col3 {\n",
       "            : ;\n",
       "            color:  green;\n",
       "        }</style>  \n",
       "<table id=\"T_ddd15bd2_270a_11e9_a5df_e4b318c9cbeb\" > \n",
       "<thead>    <tr> \n",
       "        <th class=\"blank level0\" ></th> \n",
       "        <th class=\"col_heading level0 col0\" >A</th> \n",
       "        <th class=\"col_heading level0 col1\" >B</th> \n",
       "        <th class=\"col_heading level0 col2\" >C</th> \n",
       "        <th class=\"col_heading level0 col3\" >D</th> \n",
       "    </tr></thead> \n",
       "<tbody>    <tr> \n",
       "        <th id=\"T_ddd15bd2_270a_11e9_a5df_e4b318c9cbeblevel0_row0\" class=\"row_heading level0 row0\" >SltLxkEubm</th> \n",
       "        <td id=\"T_ddd15bd2_270a_11e9_a5df_e4b318c9cbebrow0_col0\" class=\"data row0 col0\" >-0.59424</td> \n",
       "        <td id=\"T_ddd15bd2_270a_11e9_a5df_e4b318c9cbebrow0_col1\" class=\"data row0 col1\" >-1.45634</td> \n",
       "        <td id=\"T_ddd15bd2_270a_11e9_a5df_e4b318c9cbebrow0_col2\" class=\"data row0 col2\" >0.596866</td> \n",
       "        <td id=\"T_ddd15bd2_270a_11e9_a5df_e4b318c9cbebrow0_col3\" class=\"data row0 col3\" >0.013529</td> \n",
       "    </tr>    <tr> \n",
       "        <th id=\"T_ddd15bd2_270a_11e9_a5df_e4b318c9cbeblevel0_row1\" class=\"row_heading level0 row1\" >OJ0b4xxx9d</th> \n",
       "        <td id=\"T_ddd15bd2_270a_11e9_a5df_e4b318c9cbebrow1_col0\" class=\"data row1 col0\" >0.685463</td> \n",
       "        <td id=\"T_ddd15bd2_270a_11e9_a5df_e4b318c9cbebrow1_col1\" class=\"data row1 col1\" >0.89414</td> \n",
       "        <td id=\"T_ddd15bd2_270a_11e9_a5df_e4b318c9cbebrow1_col2\" class=\"data row1 col2\" >-0.068299</td> \n",
       "        <td id=\"T_ddd15bd2_270a_11e9_a5df_e4b318c9cbebrow1_col3\" class=\"data row1 col3\" >-0.637802</td> \n",
       "    </tr>    <tr> \n",
       "        <th id=\"T_ddd15bd2_270a_11e9_a5df_e4b318c9cbeblevel0_row2\" class=\"row_heading level0 row2\" >6dSoJHhBxh</th> \n",
       "        <td id=\"T_ddd15bd2_270a_11e9_a5df_e4b318c9cbebrow2_col0\" class=\"data row2 col0\" >-1.14305</td> \n",
       "        <td id=\"T_ddd15bd2_270a_11e9_a5df_e4b318c9cbebrow2_col1\" class=\"data row2 col1\" >0.61714</td> \n",
       "        <td id=\"T_ddd15bd2_270a_11e9_a5df_e4b318c9cbebrow2_col2\" class=\"data row2 col2\" >-0.167066</td> \n",
       "        <td id=\"T_ddd15bd2_270a_11e9_a5df_e4b318c9cbebrow2_col3\" class=\"data row2 col3\" >-0.512906</td> \n",
       "    </tr>    <tr> \n",
       "        <th id=\"T_ddd15bd2_270a_11e9_a5df_e4b318c9cbeblevel0_row3\" class=\"row_heading level0 row3\" >ZVvbPYrz4T</th> \n",
       "        <td id=\"T_ddd15bd2_270a_11e9_a5df_e4b318c9cbebrow3_col0\" class=\"data row3 col0\" >-1.25224</td> \n",
       "        <td id=\"T_ddd15bd2_270a_11e9_a5df_e4b318c9cbebrow3_col1\" class=\"data row3 col1\" >-1.35086</td> \n",
       "        <td id=\"T_ddd15bd2_270a_11e9_a5df_e4b318c9cbebrow3_col2\" class=\"data row3 col2\" >-0.139804</td> \n",
       "        <td id=\"T_ddd15bd2_270a_11e9_a5df_e4b318c9cbebrow3_col3\" class=\"data row3 col3\" >0.226549</td> \n",
       "    </tr>    <tr> \n",
       "        <th id=\"T_ddd15bd2_270a_11e9_a5df_e4b318c9cbeblevel0_row4\" class=\"row_heading level0 row4\" >xu4EuzSGgB</th> \n",
       "        <td id=\"T_ddd15bd2_270a_11e9_a5df_e4b318c9cbebrow4_col0\" class=\"data row4 col0\" >0.791363</td> \n",
       "        <td id=\"T_ddd15bd2_270a_11e9_a5df_e4b318c9cbebrow4_col1\" class=\"data row4 col1\" >-0.000345574</td> \n",
       "        <td id=\"T_ddd15bd2_270a_11e9_a5df_e4b318c9cbebrow4_col2\" class=\"data row4 col2\" >0.730952</td> \n",
       "        <td id=\"T_ddd15bd2_270a_11e9_a5df_e4b318c9cbebrow4_col3\" class=\"data row4 col3\" >2.87535</td> \n",
       "    </tr></tbody> \n",
       "</table> "
      ],
      "text/plain": [
       "<pandas.io.formats.style.Styler at 0x1631b836cf8>"
      ]
     },
     "execution_count": 40,
     "metadata": {},
     "output_type": "execute_result"
    }
   ],
   "source": [
    "df.head().style.apply(highlight_min).applymap(color_pos_green)"
   ]
  },
  {
   "cell_type": "code",
   "execution_count": 41,
   "metadata": {},
   "outputs": [
    {
     "data": {
      "text/html": [
       "<style  type=\"text/css\" >\n",
       "    #T_efd53112_270a_11e9_88bf_e4b318c9cbebrow0_col1 {\n",
       "            background-color:  aqua;\n",
       "        }    #T_efd53112_270a_11e9_88bf_e4b318c9cbebrow2_col2 {\n",
       "            background-color:  aqua;\n",
       "        }</style>  \n",
       "<table id=\"T_efd53112_270a_11e9_88bf_e4b318c9cbeb\" > \n",
       "<thead>    <tr> \n",
       "        <th class=\"blank level0\" ></th> \n",
       "        <th class=\"col_heading level0 col0\" >A</th> \n",
       "        <th class=\"col_heading level0 col1\" >B</th> \n",
       "        <th class=\"col_heading level0 col2\" >C</th> \n",
       "        <th class=\"col_heading level0 col3\" >D</th> \n",
       "    </tr></thead> \n",
       "<tbody>    <tr> \n",
       "        <th id=\"T_efd53112_270a_11e9_88bf_e4b318c9cbeblevel0_row0\" class=\"row_heading level0 row0\" >SltLxkEubm</th> \n",
       "        <td id=\"T_efd53112_270a_11e9_88bf_e4b318c9cbebrow0_col0\" class=\"data row0 col0\" >-0.59424</td> \n",
       "        <td id=\"T_efd53112_270a_11e9_88bf_e4b318c9cbebrow0_col1\" class=\"data row0 col1\" >-1.45634</td> \n",
       "        <td id=\"T_efd53112_270a_11e9_88bf_e4b318c9cbebrow0_col2\" class=\"data row0 col2\" >0.596866</td> \n",
       "        <td id=\"T_efd53112_270a_11e9_88bf_e4b318c9cbebrow0_col3\" class=\"data row0 col3\" >0.013529</td> \n",
       "    </tr>    <tr> \n",
       "        <th id=\"T_efd53112_270a_11e9_88bf_e4b318c9cbeblevel0_row1\" class=\"row_heading level0 row1\" >OJ0b4xxx9d</th> \n",
       "        <td id=\"T_efd53112_270a_11e9_88bf_e4b318c9cbebrow1_col0\" class=\"data row1 col0\" >0.685463</td> \n",
       "        <td id=\"T_efd53112_270a_11e9_88bf_e4b318c9cbebrow1_col1\" class=\"data row1 col1\" >0.89414</td> \n",
       "        <td id=\"T_efd53112_270a_11e9_88bf_e4b318c9cbebrow1_col2\" class=\"data row1 col2\" >-0.068299</td> \n",
       "        <td id=\"T_efd53112_270a_11e9_88bf_e4b318c9cbebrow1_col3\" class=\"data row1 col3\" >-0.637802</td> \n",
       "    </tr>    <tr> \n",
       "        <th id=\"T_efd53112_270a_11e9_88bf_e4b318c9cbeblevel0_row2\" class=\"row_heading level0 row2\" >6dSoJHhBxh</th> \n",
       "        <td id=\"T_efd53112_270a_11e9_88bf_e4b318c9cbebrow2_col0\" class=\"data row2 col0\" >-1.14305</td> \n",
       "        <td id=\"T_efd53112_270a_11e9_88bf_e4b318c9cbebrow2_col1\" class=\"data row2 col1\" >0.61714</td> \n",
       "        <td id=\"T_efd53112_270a_11e9_88bf_e4b318c9cbebrow2_col2\" class=\"data row2 col2\" >-0.167066</td> \n",
       "        <td id=\"T_efd53112_270a_11e9_88bf_e4b318c9cbebrow2_col3\" class=\"data row2 col3\" >-0.512906</td> \n",
       "    </tr>    <tr> \n",
       "        <th id=\"T_efd53112_270a_11e9_88bf_e4b318c9cbeblevel0_row3\" class=\"row_heading level0 row3\" >ZVvbPYrz4T</th> \n",
       "        <td id=\"T_efd53112_270a_11e9_88bf_e4b318c9cbebrow3_col0\" class=\"data row3 col0\" >-1.25224</td> \n",
       "        <td id=\"T_efd53112_270a_11e9_88bf_e4b318c9cbebrow3_col1\" class=\"data row3 col1\" >-1.35086</td> \n",
       "        <td id=\"T_efd53112_270a_11e9_88bf_e4b318c9cbebrow3_col2\" class=\"data row3 col2\" >-0.139804</td> \n",
       "        <td id=\"T_efd53112_270a_11e9_88bf_e4b318c9cbebrow3_col3\" class=\"data row3 col3\" >0.226549</td> \n",
       "    </tr>    <tr> \n",
       "        <th id=\"T_efd53112_270a_11e9_88bf_e4b318c9cbeblevel0_row4\" class=\"row_heading level0 row4\" >xu4EuzSGgB</th> \n",
       "        <td id=\"T_efd53112_270a_11e9_88bf_e4b318c9cbebrow4_col0\" class=\"data row4 col0\" >0.791363</td> \n",
       "        <td id=\"T_efd53112_270a_11e9_88bf_e4b318c9cbebrow4_col1\" class=\"data row4 col1\" >-0.000345574</td> \n",
       "        <td id=\"T_efd53112_270a_11e9_88bf_e4b318c9cbebrow4_col2\" class=\"data row4 col2\" >0.730952</td> \n",
       "        <td id=\"T_efd53112_270a_11e9_88bf_e4b318c9cbebrow4_col3\" class=\"data row4 col3\" >2.87535</td> \n",
       "    </tr></tbody> \n",
       "</table> "
      ],
      "text/plain": [
       "<pandas.io.formats.style.Styler at 0x1631b87d668>"
      ]
     },
     "execution_count": 41,
     "metadata": {},
     "output_type": "execute_result"
    }
   ],
   "source": [
    "df.head().style.apply(highlight_min, subset=[\"B\", \"C\"])"
   ]
  },
  {
   "cell_type": "code",
   "execution_count": 44,
   "metadata": {},
   "outputs": [
    {
     "data": {
      "text/html": [
       "<style  type=\"text/css\" >\n",
       "    #T_0fb053ee_270b_11e9_8a22_e4b318c9cbebrow0_col0 {\n",
       "            color:  black;\n",
       "        }    #T_0fb053ee_270b_11e9_8a22_e4b318c9cbebrow0_col1 {\n",
       "            color:  black;\n",
       "        }    #T_0fb053ee_270b_11e9_8a22_e4b318c9cbebrow1_col0 {\n",
       "            color:  green;\n",
       "        }    #T_0fb053ee_270b_11e9_8a22_e4b318c9cbebrow1_col1 {\n",
       "            color:  green;\n",
       "        }    #T_0fb053ee_270b_11e9_8a22_e4b318c9cbebrow2_col0 {\n",
       "            color:  black;\n",
       "        }    #T_0fb053ee_270b_11e9_8a22_e4b318c9cbebrow2_col1 {\n",
       "            color:  green;\n",
       "        }    #T_0fb053ee_270b_11e9_8a22_e4b318c9cbebrow3_col0 {\n",
       "            color:  black;\n",
       "        }    #T_0fb053ee_270b_11e9_8a22_e4b318c9cbebrow3_col1 {\n",
       "            color:  black;\n",
       "        }    #T_0fb053ee_270b_11e9_8a22_e4b318c9cbebrow4_col0 {\n",
       "            color:  green;\n",
       "        }    #T_0fb053ee_270b_11e9_8a22_e4b318c9cbebrow4_col1 {\n",
       "            color:  black;\n",
       "        }</style>  \n",
       "<table id=\"T_0fb053ee_270b_11e9_8a22_e4b318c9cbeb\" > \n",
       "<thead>    <tr> \n",
       "        <th class=\"blank level0\" ></th> \n",
       "        <th class=\"col_heading level0 col0\" >A</th> \n",
       "        <th class=\"col_heading level0 col1\" >B</th> \n",
       "        <th class=\"col_heading level0 col2\" >C</th> \n",
       "        <th class=\"col_heading level0 col3\" >D</th> \n",
       "    </tr></thead> \n",
       "<tbody>    <tr> \n",
       "        <th id=\"T_0fb053ee_270b_11e9_8a22_e4b318c9cbeblevel0_row0\" class=\"row_heading level0 row0\" >SltLxkEubm</th> \n",
       "        <td id=\"T_0fb053ee_270b_11e9_8a22_e4b318c9cbebrow0_col0\" class=\"data row0 col0\" >-0.59424</td> \n",
       "        <td id=\"T_0fb053ee_270b_11e9_8a22_e4b318c9cbebrow0_col1\" class=\"data row0 col1\" >-1.45634</td> \n",
       "        <td id=\"T_0fb053ee_270b_11e9_8a22_e4b318c9cbebrow0_col2\" class=\"data row0 col2\" >0.596866</td> \n",
       "        <td id=\"T_0fb053ee_270b_11e9_8a22_e4b318c9cbebrow0_col3\" class=\"data row0 col3\" >0.013529</td> \n",
       "    </tr>    <tr> \n",
       "        <th id=\"T_0fb053ee_270b_11e9_8a22_e4b318c9cbeblevel0_row1\" class=\"row_heading level0 row1\" >OJ0b4xxx9d</th> \n",
       "        <td id=\"T_0fb053ee_270b_11e9_8a22_e4b318c9cbebrow1_col0\" class=\"data row1 col0\" >0.685463</td> \n",
       "        <td id=\"T_0fb053ee_270b_11e9_8a22_e4b318c9cbebrow1_col1\" class=\"data row1 col1\" >0.89414</td> \n",
       "        <td id=\"T_0fb053ee_270b_11e9_8a22_e4b318c9cbebrow1_col2\" class=\"data row1 col2\" >-0.068299</td> \n",
       "        <td id=\"T_0fb053ee_270b_11e9_8a22_e4b318c9cbebrow1_col3\" class=\"data row1 col3\" >-0.637802</td> \n",
       "    </tr>    <tr> \n",
       "        <th id=\"T_0fb053ee_270b_11e9_8a22_e4b318c9cbeblevel0_row2\" class=\"row_heading level0 row2\" >6dSoJHhBxh</th> \n",
       "        <td id=\"T_0fb053ee_270b_11e9_8a22_e4b318c9cbebrow2_col0\" class=\"data row2 col0\" >-1.14305</td> \n",
       "        <td id=\"T_0fb053ee_270b_11e9_8a22_e4b318c9cbebrow2_col1\" class=\"data row2 col1\" >0.61714</td> \n",
       "        <td id=\"T_0fb053ee_270b_11e9_8a22_e4b318c9cbebrow2_col2\" class=\"data row2 col2\" >-0.167066</td> \n",
       "        <td id=\"T_0fb053ee_270b_11e9_8a22_e4b318c9cbebrow2_col3\" class=\"data row2 col3\" >-0.512906</td> \n",
       "    </tr>    <tr> \n",
       "        <th id=\"T_0fb053ee_270b_11e9_8a22_e4b318c9cbeblevel0_row3\" class=\"row_heading level0 row3\" >ZVvbPYrz4T</th> \n",
       "        <td id=\"T_0fb053ee_270b_11e9_8a22_e4b318c9cbebrow3_col0\" class=\"data row3 col0\" >-1.25224</td> \n",
       "        <td id=\"T_0fb053ee_270b_11e9_8a22_e4b318c9cbebrow3_col1\" class=\"data row3 col1\" >-1.35086</td> \n",
       "        <td id=\"T_0fb053ee_270b_11e9_8a22_e4b318c9cbebrow3_col2\" class=\"data row3 col2\" >-0.139804</td> \n",
       "        <td id=\"T_0fb053ee_270b_11e9_8a22_e4b318c9cbebrow3_col3\" class=\"data row3 col3\" >0.226549</td> \n",
       "    </tr>    <tr> \n",
       "        <th id=\"T_0fb053ee_270b_11e9_8a22_e4b318c9cbeblevel0_row4\" class=\"row_heading level0 row4\" >xu4EuzSGgB</th> \n",
       "        <td id=\"T_0fb053ee_270b_11e9_8a22_e4b318c9cbebrow4_col0\" class=\"data row4 col0\" >0.791363</td> \n",
       "        <td id=\"T_0fb053ee_270b_11e9_8a22_e4b318c9cbebrow4_col1\" class=\"data row4 col1\" >-0.000345574</td> \n",
       "        <td id=\"T_0fb053ee_270b_11e9_8a22_e4b318c9cbebrow4_col2\" class=\"data row4 col2\" >0.730952</td> \n",
       "        <td id=\"T_0fb053ee_270b_11e9_8a22_e4b318c9cbebrow4_col3\" class=\"data row4 col3\" >2.87535</td> \n",
       "    </tr></tbody> \n",
       "</table> "
      ],
      "text/plain": [
       "<pandas.io.formats.style.Styler at 0x1631b889e48>"
      ]
     },
     "execution_count": 44,
     "metadata": {},
     "output_type": "execute_result"
    }
   ],
   "source": [
    "df.head().style.applymap(color_pos_green, subset=pd.IndexSlice[:, ['A', 'B']])"
   ]
  },
  {
   "cell_type": "code",
   "execution_count": 45,
   "metadata": {},
   "outputs": [
    {
     "data": {
      "text/html": [
       "<style  type=\"text/css\" >\n",
       "</style>  \n",
       "<table id=\"T_1ae6c33a_270b_11e9_b7f9_e4b318c9cbeb\" > \n",
       "<thead>    <tr> \n",
       "        <th class=\"blank level0\" ></th> \n",
       "        <th class=\"col_heading level0 col0\" >A</th> \n",
       "        <th class=\"col_heading level0 col1\" >B</th> \n",
       "        <th class=\"col_heading level0 col2\" >C</th> \n",
       "        <th class=\"col_heading level0 col3\" >D</th> \n",
       "    </tr></thead> \n",
       "<tbody>    <tr> \n",
       "        <th id=\"T_1ae6c33a_270b_11e9_b7f9_e4b318c9cbeblevel0_row0\" class=\"row_heading level0 row0\" >SltLxkEubm</th> \n",
       "        <td id=\"T_1ae6c33a_270b_11e9_b7f9_e4b318c9cbebrow0_col0\" class=\"data row0 col0\" >-59.42%</td> \n",
       "        <td id=\"T_1ae6c33a_270b_11e9_b7f9_e4b318c9cbebrow0_col1\" class=\"data row0 col1\" >-145.63%</td> \n",
       "        <td id=\"T_1ae6c33a_270b_11e9_b7f9_e4b318c9cbebrow0_col2\" class=\"data row0 col2\" >59.69%</td> \n",
       "        <td id=\"T_1ae6c33a_270b_11e9_b7f9_e4b318c9cbebrow0_col3\" class=\"data row0 col3\" >1.35%</td> \n",
       "    </tr>    <tr> \n",
       "        <th id=\"T_1ae6c33a_270b_11e9_b7f9_e4b318c9cbeblevel0_row1\" class=\"row_heading level0 row1\" >OJ0b4xxx9d</th> \n",
       "        <td id=\"T_1ae6c33a_270b_11e9_b7f9_e4b318c9cbebrow1_col0\" class=\"data row1 col0\" >68.55%</td> \n",
       "        <td id=\"T_1ae6c33a_270b_11e9_b7f9_e4b318c9cbebrow1_col1\" class=\"data row1 col1\" >89.41%</td> \n",
       "        <td id=\"T_1ae6c33a_270b_11e9_b7f9_e4b318c9cbebrow1_col2\" class=\"data row1 col2\" >-6.83%</td> \n",
       "        <td id=\"T_1ae6c33a_270b_11e9_b7f9_e4b318c9cbebrow1_col3\" class=\"data row1 col3\" >-63.78%</td> \n",
       "    </tr>    <tr> \n",
       "        <th id=\"T_1ae6c33a_270b_11e9_b7f9_e4b318c9cbeblevel0_row2\" class=\"row_heading level0 row2\" >6dSoJHhBxh</th> \n",
       "        <td id=\"T_1ae6c33a_270b_11e9_b7f9_e4b318c9cbebrow2_col0\" class=\"data row2 col0\" >-114.31%</td> \n",
       "        <td id=\"T_1ae6c33a_270b_11e9_b7f9_e4b318c9cbebrow2_col1\" class=\"data row2 col1\" >61.71%</td> \n",
       "        <td id=\"T_1ae6c33a_270b_11e9_b7f9_e4b318c9cbebrow2_col2\" class=\"data row2 col2\" >-16.71%</td> \n",
       "        <td id=\"T_1ae6c33a_270b_11e9_b7f9_e4b318c9cbebrow2_col3\" class=\"data row2 col3\" >-51.29%</td> \n",
       "    </tr>    <tr> \n",
       "        <th id=\"T_1ae6c33a_270b_11e9_b7f9_e4b318c9cbeblevel0_row3\" class=\"row_heading level0 row3\" >ZVvbPYrz4T</th> \n",
       "        <td id=\"T_1ae6c33a_270b_11e9_b7f9_e4b318c9cbebrow3_col0\" class=\"data row3 col0\" >-125.22%</td> \n",
       "        <td id=\"T_1ae6c33a_270b_11e9_b7f9_e4b318c9cbebrow3_col1\" class=\"data row3 col1\" >-135.09%</td> \n",
       "        <td id=\"T_1ae6c33a_270b_11e9_b7f9_e4b318c9cbebrow3_col2\" class=\"data row3 col2\" >-13.98%</td> \n",
       "        <td id=\"T_1ae6c33a_270b_11e9_b7f9_e4b318c9cbebrow3_col3\" class=\"data row3 col3\" >22.65%</td> \n",
       "    </tr>    <tr> \n",
       "        <th id=\"T_1ae6c33a_270b_11e9_b7f9_e4b318c9cbeblevel0_row4\" class=\"row_heading level0 row4\" >xu4EuzSGgB</th> \n",
       "        <td id=\"T_1ae6c33a_270b_11e9_b7f9_e4b318c9cbebrow4_col0\" class=\"data row4 col0\" >79.14%</td> \n",
       "        <td id=\"T_1ae6c33a_270b_11e9_b7f9_e4b318c9cbebrow4_col1\" class=\"data row4 col1\" >-0.03%</td> \n",
       "        <td id=\"T_1ae6c33a_270b_11e9_b7f9_e4b318c9cbebrow4_col2\" class=\"data row4 col2\" >73.10%</td> \n",
       "        <td id=\"T_1ae6c33a_270b_11e9_b7f9_e4b318c9cbebrow4_col3\" class=\"data row4 col3\" >287.54%</td> \n",
       "    </tr></tbody> \n",
       "</table> "
      ],
      "text/plain": [
       "<pandas.io.formats.style.Styler at 0x1631b836b00>"
      ]
     },
     "execution_count": 45,
     "metadata": {},
     "output_type": "execute_result"
    }
   ],
   "source": [
    "df.head().style.format(\"{:.2%}\")"
   ]
  },
  {
   "cell_type": "markdown",
   "metadata": {},
   "source": [
    "## Purging big data to HDF5 and SQL sources"
   ]
  },
  {
   "cell_type": "code",
   "execution_count": null,
   "metadata": {},
   "outputs": [],
   "source": []
  },
  {
   "cell_type": "code",
   "execution_count": null,
   "metadata": {},
   "outputs": [],
   "source": []
  },
  {
   "cell_type": "code",
   "execution_count": null,
   "metadata": {},
   "outputs": [],
   "source": []
  }
 ],
 "metadata": {
  "kernelspec": {
   "display_name": "Python 3",
   "language": "python",
   "name": "python3"
  },
  "language_info": {
   "codemirror_mode": {
    "name": "ipython",
    "version": 3
   },
   "file_extension": ".py",
   "mimetype": "text/x-python",
   "name": "python",
   "nbconvert_exporter": "python",
   "pygments_lexer": "ipython3",
   "version": "3.6.2"
  }
 },
 "nbformat": 4,
 "nbformat_minor": 2
}
