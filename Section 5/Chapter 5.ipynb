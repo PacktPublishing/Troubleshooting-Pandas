{
 "cells": [
  {
   "cell_type": "markdown",
   "metadata": {},
   "source": [
    "# Trouble with time series data "
   ]
  },
  {
   "cell_type": "markdown",
   "metadata": {},
   "source": [
    "Time series data has a special place in data analysis, and is increasingly common in today’s real time world."
   ]
  },
  {
   "cell_type": "code",
   "execution_count": 64,
   "metadata": {},
   "outputs": [],
   "source": [
    "import pandas as pd\n",
    "import numpy as np"
   ]
  },
  {
   "cell_type": "markdown",
   "metadata": {},
   "source": [
    "## Fixing messy time series data with DateTimeIndex\n"
   ]
  },
  {
   "cell_type": "code",
   "execution_count": 60,
   "metadata": {},
   "outputs": [
    {
     "data": {
      "text/plain": [
       "DatetimeIndex(['2019-01-01 00:00:00', '2019-01-01 01:00:00',\n",
       "               '2019-01-01 02:00:00', '2019-01-01 03:00:00',\n",
       "               '2019-01-01 04:00:00', '2019-01-01 05:00:00',\n",
       "               '2019-01-01 06:00:00', '2019-01-01 07:00:00',\n",
       "               '2019-01-01 08:00:00', '2019-01-01 09:00:00',\n",
       "               '2019-01-01 10:00:00', '2019-01-01 11:00:00'],\n",
       "              dtype='datetime64[ns]', freq='H')"
      ]
     },
     "execution_count": 60,
     "metadata": {},
     "output_type": "execute_result"
    }
   ],
   "source": [
    "pd.date_range('1/1/2019', periods=12, freq='H')"
   ]
  },
  {
   "cell_type": "code",
   "execution_count": 61,
   "metadata": {},
   "outputs": [
    {
     "data": {
      "text/plain": [
       "DatetimeIndex(['2019-01-01', '2019-01-02', '2019-01-03', '2019-01-04',\n",
       "               '2019-01-05', '2019-01-06', '2019-01-07', '2019-01-08',\n",
       "               '2019-01-09', '2019-01-10', '2019-01-11', '2019-01-12'],\n",
       "              dtype='datetime64[ns]', freq='D')"
      ]
     },
     "execution_count": 61,
     "metadata": {},
     "output_type": "execute_result"
    }
   ],
   "source": [
    "pd.date_range('1/1/2019', periods=12, freq='D')"
   ]
  },
  {
   "cell_type": "code",
   "execution_count": 65,
   "metadata": {},
   "outputs": [
    {
     "data": {
      "text/plain": [
       "2019-01-01    0.304601\n",
       "2019-01-02   -1.301215\n",
       "2019-01-03   -0.918825\n",
       "2019-01-04    0.353027\n",
       "2019-01-05    1.087069\n",
       "2019-01-06    0.322118\n",
       "2019-01-07    0.941573\n",
       "2019-01-08    0.223489\n",
       "2019-01-09   -0.729176\n",
       "2019-01-10    1.360778\n",
       "2019-01-11   -0.981381\n",
       "2019-01-12    1.820091\n",
       "Freq: D, dtype: float64"
      ]
     },
     "execution_count": 65,
     "metadata": {},
     "output_type": "execute_result"
    }
   ],
   "source": [
    "# convert to timeseries\n",
    "pd.Series(np.random.randn(12), index=pd.date_range('1/1/2019', periods=12, freq='D'))"
   ]
  },
  {
   "cell_type": "code",
   "execution_count": 67,
   "metadata": {},
   "outputs": [
    {
     "data": {
      "text/plain": [
       "2019-01-01 00:00:00   -1.318194\n",
       "2019-01-01 00:45:00   -1.318194\n",
       "2019-01-01 01:30:00    0.557019\n",
       "2019-01-01 02:15:00    2.109572\n",
       "2019-01-01 03:00:00   -1.824286\n",
       "2019-01-01 03:45:00   -1.824286\n",
       "2019-01-01 04:30:00    1.899163\n",
       "2019-01-01 05:15:00    1.901835\n",
       "2019-01-01 06:00:00    0.226411\n",
       "2019-01-01 06:45:00    0.226411\n",
       "2019-01-01 07:30:00    0.385678\n",
       "2019-01-01 08:15:00   -0.178140\n",
       "2019-01-01 09:00:00   -0.974349\n",
       "2019-01-01 09:45:00   -0.974349\n",
       "2019-01-01 10:30:00   -1.476653\n",
       "Freq: 45T, dtype: float64"
      ]
     },
     "execution_count": 67,
     "metadata": {},
     "output_type": "execute_result"
    }
   ],
   "source": [
    "# change frequency\n",
    "pd.Series(np.random.randn(12), index=pd.date_range('1/1/2019', periods=12, freq='H')).asfreq('45Min', method='pad')"
   ]
  },
  {
   "cell_type": "code",
   "execution_count": 68,
   "metadata": {},
   "outputs": [
    {
     "data": {
      "text/plain": [
       "2019-01-01   -0.075579\n",
       "2019-01-02    0.090393\n",
       "2019-01-03    0.286684\n",
       "Freq: D, dtype: float64"
      ]
     },
     "execution_count": 68,
     "metadata": {},
     "output_type": "execute_result"
    }
   ],
   "source": [
    "# Resample\n",
    "# up periods to 72 hours\n",
    "pd.Series(np.random.randn(72), index=pd.date_range('1/1/2019', periods=72, freq='H')).resample('D').mean()"
   ]
  },
  {
   "cell_type": "code",
   "execution_count": 69,
   "metadata": {},
   "outputs": [
    {
     "data": {
      "text/plain": [
       "Timestamp('2019-01-01 00:00:00')"
      ]
     },
     "execution_count": 69,
     "metadata": {},
     "output_type": "execute_result"
    }
   ],
   "source": [
    "# Create a pandas representation of a time point\n",
    "pd.Timestamp('2019-01-01')"
   ]
  },
  {
   "cell_type": "code",
   "execution_count": 56,
   "metadata": {},
   "outputs": [
    {
     "data": {
      "text/html": [
       "<div>\n",
       "<style scoped>\n",
       "    .dataframe tbody tr th:only-of-type {\n",
       "        vertical-align: middle;\n",
       "    }\n",
       "\n",
       "    .dataframe tbody tr th {\n",
       "        vertical-align: top;\n",
       "    }\n",
       "\n",
       "    .dataframe thead th {\n",
       "        text-align: right;\n",
       "    }\n",
       "</style>\n",
       "<table border=\"1\" class=\"dataframe\">\n",
       "  <thead>\n",
       "    <tr style=\"text-align: right;\">\n",
       "      <th></th>\n",
       "      <th>A</th>\n",
       "      <th>B</th>\n",
       "      <th>C</th>\n",
       "      <th>D</th>\n",
       "      <th>t</th>\n",
       "    </tr>\n",
       "  </thead>\n",
       "  <tbody>\n",
       "    <tr>\n",
       "      <th>2000-01-01 00:00:00.000</th>\n",
       "      <td>-0.944513</td>\n",
       "      <td>1.315922</td>\n",
       "      <td>1.922571</td>\n",
       "      <td>0.601529</td>\n",
       "      <td>2000-01-01 00:00:00.000</td>\n",
       "    </tr>\n",
       "    <tr>\n",
       "      <th>2000-01-01 00:00:00.001</th>\n",
       "      <td>0.390411</td>\n",
       "      <td>1.805532</td>\n",
       "      <td>0.459364</td>\n",
       "      <td>0.309276</td>\n",
       "      <td>2000-01-01 00:00:00.001</td>\n",
       "    </tr>\n",
       "    <tr>\n",
       "      <th>2000-01-01 00:00:00.002</th>\n",
       "      <td>-1.040051</td>\n",
       "      <td>0.418895</td>\n",
       "      <td>0.725516</td>\n",
       "      <td>-1.858552</td>\n",
       "      <td>2000-01-01 00:00:00.002</td>\n",
       "    </tr>\n",
       "    <tr>\n",
       "      <th>2000-01-01 00:00:00.003</th>\n",
       "      <td>0.400832</td>\n",
       "      <td>0.529163</td>\n",
       "      <td>0.002560</td>\n",
       "      <td>2.663544</td>\n",
       "      <td>2000-01-01 00:00:00.003</td>\n",
       "    </tr>\n",
       "    <tr>\n",
       "      <th>2000-01-01 00:00:00.004</th>\n",
       "      <td>0.865504</td>\n",
       "      <td>0.956609</td>\n",
       "      <td>0.557900</td>\n",
       "      <td>-1.185280</td>\n",
       "      <td>2000-01-01 00:00:00.004</td>\n",
       "    </tr>\n",
       "  </tbody>\n",
       "</table>\n",
       "</div>"
      ],
      "text/plain": [
       "                                A         B         C         D  \\\n",
       "2000-01-01 00:00:00.000 -0.944513  1.315922  1.922571  0.601529   \n",
       "2000-01-01 00:00:00.001  0.390411  1.805532  0.459364  0.309276   \n",
       "2000-01-01 00:00:00.002 -1.040051  0.418895  0.725516 -1.858552   \n",
       "2000-01-01 00:00:00.003  0.400832  0.529163  0.002560  2.663544   \n",
       "2000-01-01 00:00:00.004  0.865504  0.956609  0.557900 -1.185280   \n",
       "\n",
       "                                              t  \n",
       "2000-01-01 00:00:00.000 2000-01-01 00:00:00.000  \n",
       "2000-01-01 00:00:00.001 2000-01-01 00:00:00.001  \n",
       "2000-01-01 00:00:00.002 2000-01-01 00:00:00.002  \n",
       "2000-01-01 00:00:00.003 2000-01-01 00:00:00.003  \n",
       "2000-01-01 00:00:00.004 2000-01-01 00:00:00.004  "
      ]
     },
     "execution_count": 56,
     "metadata": {},
     "output_type": "execute_result"
    }
   ],
   "source": [
    "# reading data from disk with timeseries information\n",
    "import pandas.util.testing as tm\n",
    "df = tm.makeTimeDataFrame(freq='ms')\n",
    "df[\"t\"] = df.index\n",
    "df.head()"
   ]
  },
  {
   "cell_type": "code",
   "execution_count": 57,
   "metadata": {},
   "outputs": [],
   "source": [
    "df.to_json(\"events.json\", orient=\"records\")"
   ]
  },
  {
   "cell_type": "code",
   "execution_count": 58,
   "metadata": {},
   "outputs": [
    {
     "data": {
      "text/html": [
       "<div>\n",
       "<style scoped>\n",
       "    .dataframe tbody tr th:only-of-type {\n",
       "        vertical-align: middle;\n",
       "    }\n",
       "\n",
       "    .dataframe tbody tr th {\n",
       "        vertical-align: top;\n",
       "    }\n",
       "\n",
       "    .dataframe thead th {\n",
       "        text-align: right;\n",
       "    }\n",
       "</style>\n",
       "<table border=\"1\" class=\"dataframe\">\n",
       "  <thead>\n",
       "    <tr style=\"text-align: right;\">\n",
       "      <th></th>\n",
       "      <th>A</th>\n",
       "      <th>B</th>\n",
       "      <th>C</th>\n",
       "      <th>D</th>\n",
       "      <th>t</th>\n",
       "    </tr>\n",
       "  </thead>\n",
       "  <tbody>\n",
       "    <tr>\n",
       "      <th>0</th>\n",
       "      <td>-0.944513</td>\n",
       "      <td>1.315922</td>\n",
       "      <td>1.922571</td>\n",
       "      <td>0.601529</td>\n",
       "      <td>946684800000</td>\n",
       "    </tr>\n",
       "    <tr>\n",
       "      <th>1</th>\n",
       "      <td>0.390411</td>\n",
       "      <td>1.805532</td>\n",
       "      <td>0.459364</td>\n",
       "      <td>0.309276</td>\n",
       "      <td>946684800001</td>\n",
       "    </tr>\n",
       "    <tr>\n",
       "      <th>2</th>\n",
       "      <td>-1.040051</td>\n",
       "      <td>0.418895</td>\n",
       "      <td>0.725516</td>\n",
       "      <td>-1.858552</td>\n",
       "      <td>946684800002</td>\n",
       "    </tr>\n",
       "    <tr>\n",
       "      <th>3</th>\n",
       "      <td>0.400832</td>\n",
       "      <td>0.529163</td>\n",
       "      <td>0.002560</td>\n",
       "      <td>2.663544</td>\n",
       "      <td>946684800003</td>\n",
       "    </tr>\n",
       "    <tr>\n",
       "      <th>4</th>\n",
       "      <td>0.865504</td>\n",
       "      <td>0.956609</td>\n",
       "      <td>0.557900</td>\n",
       "      <td>-1.185280</td>\n",
       "      <td>946684800004</td>\n",
       "    </tr>\n",
       "  </tbody>\n",
       "</table>\n",
       "</div>"
      ],
      "text/plain": [
       "          A         B         C         D             t\n",
       "0 -0.944513  1.315922  1.922571  0.601529  946684800000\n",
       "1  0.390411  1.805532  0.459364  0.309276  946684800001\n",
       "2 -1.040051  0.418895  0.725516 -1.858552  946684800002\n",
       "3  0.400832  0.529163  0.002560  2.663544  946684800003\n",
       "4  0.865504  0.956609  0.557900 -1.185280  946684800004"
      ]
     },
     "execution_count": 58,
     "metadata": {},
     "output_type": "execute_result"
    }
   ],
   "source": [
    "# if you read t, it comes out as an integer\n",
    "df2 = pd.read_json(\"events.json\", orient=\"records\")\n",
    "df2.head()"
   ]
  },
  {
   "cell_type": "code",
   "execution_count": 59,
   "metadata": {},
   "outputs": [
    {
     "data": {
      "text/html": [
       "<div>\n",
       "<style scoped>\n",
       "    .dataframe tbody tr th:only-of-type {\n",
       "        vertical-align: middle;\n",
       "    }\n",
       "\n",
       "    .dataframe tbody tr th {\n",
       "        vertical-align: top;\n",
       "    }\n",
       "\n",
       "    .dataframe thead th {\n",
       "        text-align: right;\n",
       "    }\n",
       "</style>\n",
       "<table border=\"1\" class=\"dataframe\">\n",
       "  <thead>\n",
       "    <tr style=\"text-align: right;\">\n",
       "      <th></th>\n",
       "      <th>A</th>\n",
       "      <th>B</th>\n",
       "      <th>C</th>\n",
       "      <th>D</th>\n",
       "      <th>t</th>\n",
       "    </tr>\n",
       "  </thead>\n",
       "  <tbody>\n",
       "    <tr>\n",
       "      <th>0</th>\n",
       "      <td>-0.944513</td>\n",
       "      <td>1.315922</td>\n",
       "      <td>1.922571</td>\n",
       "      <td>0.601529</td>\n",
       "      <td>2000-01-01 00:00:00.000</td>\n",
       "    </tr>\n",
       "    <tr>\n",
       "      <th>1</th>\n",
       "      <td>0.390411</td>\n",
       "      <td>1.805532</td>\n",
       "      <td>0.459364</td>\n",
       "      <td>0.309276</td>\n",
       "      <td>2000-01-01 00:00:00.001</td>\n",
       "    </tr>\n",
       "    <tr>\n",
       "      <th>2</th>\n",
       "      <td>-1.040051</td>\n",
       "      <td>0.418895</td>\n",
       "      <td>0.725516</td>\n",
       "      <td>-1.858552</td>\n",
       "      <td>2000-01-01 00:00:00.002</td>\n",
       "    </tr>\n",
       "    <tr>\n",
       "      <th>3</th>\n",
       "      <td>0.400832</td>\n",
       "      <td>0.529163</td>\n",
       "      <td>0.002560</td>\n",
       "      <td>2.663544</td>\n",
       "      <td>2000-01-01 00:00:00.003</td>\n",
       "    </tr>\n",
       "    <tr>\n",
       "      <th>4</th>\n",
       "      <td>0.865504</td>\n",
       "      <td>0.956609</td>\n",
       "      <td>0.557900</td>\n",
       "      <td>-1.185280</td>\n",
       "      <td>2000-01-01 00:00:00.004</td>\n",
       "    </tr>\n",
       "  </tbody>\n",
       "</table>\n",
       "</div>"
      ],
      "text/plain": [
       "          A         B         C         D                       t\n",
       "0 -0.944513  1.315922  1.922571  0.601529 2000-01-01 00:00:00.000\n",
       "1  0.390411  1.805532  0.459364  0.309276 2000-01-01 00:00:00.001\n",
       "2 -1.040051  0.418895  0.725516 -1.858552 2000-01-01 00:00:00.002\n",
       "3  0.400832  0.529163  0.002560  2.663544 2000-01-01 00:00:00.003\n",
       "4  0.865504  0.956609  0.557900 -1.185280 2000-01-01 00:00:00.004"
      ]
     },
     "execution_count": 59,
     "metadata": {},
     "output_type": "execute_result"
    }
   ],
   "source": [
    "# how do we recover t?\n",
    "df2[\"t\"] = pd.to_datetime(df2[\"t\"], unit=\"ms\")\n",
    "df2.head()"
   ]
  },
  {
   "cell_type": "markdown",
   "metadata": {},
   "source": [
    "## Segmenting and offsetting time series data to find the right subset"
   ]
  },
  {
   "cell_type": "code",
   "execution_count": 71,
   "metadata": {},
   "outputs": [
    {
     "data": {
      "text/html": [
       "<div>\n",
       "<style scoped>\n",
       "    .dataframe tbody tr th:only-of-type {\n",
       "        vertical-align: middle;\n",
       "    }\n",
       "\n",
       "    .dataframe tbody tr th {\n",
       "        vertical-align: top;\n",
       "    }\n",
       "\n",
       "    .dataframe thead th {\n",
       "        text-align: right;\n",
       "    }\n",
       "</style>\n",
       "<table border=\"1\" class=\"dataframe\">\n",
       "  <thead>\n",
       "    <tr style=\"text-align: right;\">\n",
       "      <th></th>\n",
       "      <th>year</th>\n",
       "      <th>month</th>\n",
       "      <th>day</th>\n",
       "      <th>hour</th>\n",
       "    </tr>\n",
       "  </thead>\n",
       "  <tbody>\n",
       "    <tr>\n",
       "      <th>0</th>\n",
       "      <td>2018</td>\n",
       "      <td>1</td>\n",
       "      <td>4</td>\n",
       "      <td>2</td>\n",
       "    </tr>\n",
       "    <tr>\n",
       "      <th>1</th>\n",
       "      <td>2019</td>\n",
       "      <td>2</td>\n",
       "      <td>5</td>\n",
       "      <td>3</td>\n",
       "    </tr>\n",
       "  </tbody>\n",
       "</table>\n",
       "</div>"
      ],
      "text/plain": [
       "   year  month  day  hour\n",
       "0  2018      1    4     2\n",
       "1  2019      2    5     3"
      ]
     },
     "execution_count": 71,
     "metadata": {},
     "output_type": "execute_result"
    }
   ],
   "source": [
    "    pd.DataFrame(\n",
    "        {'year': [2018, 2019],\n",
    "         'month': [1, 2],\n",
    "         'day': [4, 5],\n",
    "         'hour': [2, 3]}\n",
    "    )"
   ]
  },
  {
   "cell_type": "code",
   "execution_count": 70,
   "metadata": {},
   "outputs": [
    {
     "data": {
      "text/plain": [
       "0   2018-01-04 02:00:00\n",
       "1   2019-02-05 03:00:00\n",
       "dtype: datetime64[ns]"
      ]
     },
     "execution_count": 70,
     "metadata": {},
     "output_type": "execute_result"
    }
   ],
   "source": [
    "pd.to_datetime(\n",
    "    pd.DataFrame(\n",
    "        {'year': [2018, 2019],\n",
    "         'month': [1, 2],\n",
    "         'day': [4, 5],\n",
    "         'hour': [2, 3]}\n",
    "    )\n",
    ")"
   ]
  },
  {
   "cell_type": "code",
   "execution_count": 75,
   "metadata": {},
   "outputs": [
    {
     "data": {
      "text/plain": [
       "DatetimeIndex(['2019-01-01', '2019-01-02', '2019-01-03', '2019-01-04',\n",
       "               '2019-01-05', '2019-01-06', '2019-01-07', '2019-01-08',\n",
       "               '2019-01-09', '2019-01-10',\n",
       "               ...\n",
       "               '2019-12-22', '2019-12-23', '2019-12-24', '2019-12-25',\n",
       "               '2019-12-26', '2019-12-27', '2019-12-28', '2019-12-29',\n",
       "               '2019-12-30', '2019-12-31'],\n",
       "              dtype='datetime64[ns]', length=365, freq='D')"
      ]
     },
     "execution_count": 75,
     "metadata": {},
     "output_type": "execute_result"
    }
   ],
   "source": [
    "import datetime\n",
    "# time range\n",
    "pd.date_range(datetime.datetime(2019, 1, 1), datetime.datetime(2019, 12, 31))"
   ]
  },
  {
   "cell_type": "code",
   "execution_count": 74,
   "metadata": {},
   "outputs": [
    {
     "data": {
      "text/plain": [
       "DatetimeIndex(['2019-01-01', '2019-01-02', '2019-01-03', '2019-01-04',\n",
       "               '2019-01-07', '2019-01-08', '2019-01-09', '2019-01-10',\n",
       "               '2019-01-11', '2019-01-14',\n",
       "               ...\n",
       "               '2019-12-18', '2019-12-19', '2019-12-20', '2019-12-23',\n",
       "               '2019-12-24', '2019-12-25', '2019-12-26', '2019-12-27',\n",
       "               '2019-12-30', '2019-12-31'],\n",
       "              dtype='datetime64[ns]', length=261, freq='B')"
      ]
     },
     "execution_count": 74,
     "metadata": {},
     "output_type": "execute_result"
    }
   ],
   "source": [
    "# business days\n",
    "pd.bdate_range(datetime.datetime(2019, 1, 1), datetime.datetime(2019, 12, 31))"
   ]
  },
  {
   "cell_type": "code",
   "execution_count": 76,
   "metadata": {},
   "outputs": [
    {
     "data": {
      "text/plain": [
       "DatetimeIndex(['2019-01-01', '2019-04-01', '2019-07-01', '2019-10-01',\n",
       "               '2020-01-01', '2020-04-01', '2020-07-01', '2020-10-01',\n",
       "               '2021-01-01', '2021-04-01',\n",
       "               ...\n",
       "               '2079-01-02', '2079-04-03', '2079-07-03', '2079-10-02',\n",
       "               '2080-01-01', '2080-04-01', '2080-07-01', '2080-10-01',\n",
       "               '2081-01-01', '2081-04-01'],\n",
       "              dtype='datetime64[ns]', length=250, freq='BQS-JAN')"
      ]
     },
     "execution_count": 76,
     "metadata": {},
     "output_type": "execute_result"
    }
   ],
   "source": [
    "# generate quarter starts\n",
    "pd.bdate_range(datetime.datetime(2019, 1, 1), periods=250, freq='BQS')"
   ]
  },
  {
   "cell_type": "code",
   "execution_count": 93,
   "metadata": {},
   "outputs": [
    {
     "data": {
      "text/plain": [
       "2019-01-01   -2.010902\n",
       "2019-01-02    0.811922\n",
       "2019-01-03   -0.161604\n",
       "2019-01-04    1.224144\n",
       "2019-01-05   -1.695676\n",
       "2019-01-06   -0.912748\n",
       "2019-01-07    1.404750\n",
       "2019-01-08    0.658572\n",
       "2019-01-09    0.778649\n",
       "2019-01-10   -1.697634\n",
       "2019-01-11    0.764896\n",
       "2019-01-12   -1.066550\n",
       "Freq: D, dtype: float64"
      ]
     },
     "execution_count": 93,
     "metadata": {},
     "output_type": "execute_result"
    }
   ],
   "source": [
    "ts = pd.Series(np.random.randn(12), index=pd.date_range('1/1/2019', periods=12, freq='D'))\n",
    "ts"
   ]
  },
  {
   "cell_type": "code",
   "execution_count": 79,
   "metadata": {},
   "outputs": [
    {
     "data": {
      "text/plain": [
       "2019-01-01    1.020896\n",
       "2019-01-02   -0.040989\n",
       "2019-01-03    1.330753\n",
       "2019-01-04   -0.521787\n",
       "2019-01-05   -1.198657\n",
       "Freq: D, dtype: float64"
      ]
     },
     "execution_count": 79,
     "metadata": {},
     "output_type": "execute_result"
    }
   ],
   "source": [
    "# index like normal\n",
    "ts[:5]"
   ]
  },
  {
   "cell_type": "code",
   "execution_count": 80,
   "metadata": {},
   "outputs": [
    {
     "data": {
      "text/plain": [
       "1.020895591275134"
      ]
     },
     "execution_count": 80,
     "metadata": {},
     "output_type": "execute_result"
    }
   ],
   "source": [
    "ts[\"2019-01-01\"]"
   ]
  },
  {
   "cell_type": "code",
   "execution_count": 81,
   "metadata": {},
   "outputs": [
    {
     "data": {
      "text/plain": [
       "2019-01-03    1.330753\n",
       "2019-01-04   -0.521787\n",
       "2019-01-05   -1.198657\n",
       "2019-01-06    2.724483\n",
       "2019-01-07   -0.131282\n",
       "2019-01-08   -0.919027\n",
       "2019-01-09   -1.872955\n",
       "2019-01-10    0.621986\n",
       "2019-01-11   -0.750116\n",
       "2019-01-12   -1.256701\n",
       "Freq: D, dtype: float64"
      ]
     },
     "execution_count": 81,
     "metadata": {},
     "output_type": "execute_result"
    }
   ],
   "source": [
    "ts[datetime.date(2019,1,3):]"
   ]
  },
  {
   "cell_type": "code",
   "execution_count": 82,
   "metadata": {},
   "outputs": [
    {
     "data": {
      "text/plain": [
       "2019-01-01    1.020896\n",
       "2019-01-02   -0.040989\n",
       "2019-01-03    1.330753\n",
       "2019-01-04   -0.521787\n",
       "2019-01-05   -1.198657\n",
       "Freq: D, dtype: float64"
      ]
     },
     "execution_count": 82,
     "metadata": {},
     "output_type": "execute_result"
    }
   ],
   "source": [
    "ts[\"2019-01-01\": \"2019-01-05\"]"
   ]
  },
  {
   "cell_type": "markdown",
   "metadata": {},
   "source": [
    "## Repairing misaligned data with shifting and filling operators\n"
   ]
  },
  {
   "cell_type": "code",
   "execution_count": 83,
   "metadata": {},
   "outputs": [],
   "source": [
    "# offset objects for shifting\n",
    "from pandas.tseries.offsets import *"
   ]
  },
  {
   "cell_type": "code",
   "execution_count": 84,
   "metadata": {},
   "outputs": [
    {
     "data": {
      "text/plain": [
       "<Day>"
      ]
     },
     "execution_count": 84,
     "metadata": {},
     "output_type": "execute_result"
    }
   ],
   "source": [
    "Day()  # a day forward"
   ]
  },
  {
   "cell_type": "code",
   "execution_count": 85,
   "metadata": {},
   "outputs": [
    {
     "data": {
      "text/plain": [
       "Timestamp('2019-01-02 09:00:00')"
      ]
     },
     "execution_count": 85,
     "metadata": {},
     "output_type": "execute_result"
    }
   ],
   "source": [
    "Day().apply(pd.Timestamp('2019-01-01 09:00'))"
   ]
  },
  {
   "cell_type": "code",
   "execution_count": 86,
   "metadata": {},
   "outputs": [
    {
     "data": {
      "text/plain": [
       "Timestamp('2019-01-02 10:00:00')"
      ]
     },
     "execution_count": 86,
     "metadata": {},
     "output_type": "execute_result"
    }
   ],
   "source": [
    "d = Day().apply(pd.Timestamp('2019-01-01 09:00'))\n",
    "d + Hour()"
   ]
  },
  {
   "cell_type": "code",
   "execution_count": 87,
   "metadata": {},
   "outputs": [
    {
     "data": {
      "text/plain": [
       "Timestamp('2019-01-04 09:00:00')"
      ]
     },
     "execution_count": 87,
     "metadata": {},
     "output_type": "execute_result"
    }
   ],
   "source": [
    "d + Week(weekday=4)  # coming Friday"
   ]
  },
  {
   "cell_type": "code",
   "execution_count": 88,
   "metadata": {},
   "outputs": [
    {
     "data": {
      "text/plain": [
       "Timestamp('2018-12-28 09:00:00')"
      ]
     },
     "execution_count": 88,
     "metadata": {},
     "output_type": "execute_result"
    }
   ],
   "source": [
    "d - Week(weekday=4)  # previous Friday"
   ]
  },
  {
   "cell_type": "code",
   "execution_count": 89,
   "metadata": {},
   "outputs": [
    {
     "data": {
      "text/plain": [
       "DatetimeIndex(['2019-01-08', '2019-01-09', '2019-01-10'], dtype='datetime64[ns]', freq='D')"
      ]
     },
     "execution_count": 89,
     "metadata": {},
     "output_type": "execute_result"
    }
   ],
   "source": [
    "pd.date_range('2019-01-01', '2019-01-03') + Week()"
   ]
  },
  {
   "cell_type": "code",
   "execution_count": 97,
   "metadata": {},
   "outputs": [
    {
     "data": {
      "text/plain": [
       "2019-01-01         NaN\n",
       "2019-01-02         NaN\n",
       "2019-01-03         NaN\n",
       "2019-01-04   -2.010902\n",
       "2019-01-05    0.811922\n",
       "2019-01-06   -0.161604\n",
       "2019-01-07    1.224144\n",
       "2019-01-08   -1.695676\n",
       "2019-01-09   -0.912748\n",
       "2019-01-10    1.404750\n",
       "2019-01-11    0.658572\n",
       "2019-01-12    0.778649\n",
       "Freq: D, dtype: float64"
      ]
     },
     "execution_count": 97,
     "metadata": {},
     "output_type": "execute_result"
    }
   ],
   "source": [
    "# use this to e.g. calculate date to date changes in value\n",
    "ts.shift(3)"
   ]
  },
  {
   "cell_type": "code",
   "execution_count": 96,
   "metadata": {},
   "outputs": [
    {
     "data": {
      "text/plain": [
       "2019-01-06   -2.010902\n",
       "2019-01-07    0.811922\n",
       "2019-01-08   -0.161604\n",
       "2019-01-09    1.224144\n",
       "2019-01-10   -1.695676\n",
       "2019-01-11   -0.912748\n",
       "2019-01-12    1.404750\n",
       "2019-01-13    0.658572\n",
       "2019-01-14    0.778649\n",
       "2019-01-15   -1.697634\n",
       "2019-01-16    0.764896\n",
       "2019-01-17   -1.066550\n",
       "Freq: D, dtype: float64"
      ]
     },
     "execution_count": 96,
     "metadata": {},
     "output_type": "execute_result"
    }
   ],
   "source": [
    "ts.shift(5, freq='D')"
   ]
  },
  {
   "cell_type": "code",
   "execution_count": 100,
   "metadata": {},
   "outputs": [
    {
     "data": {
      "text/plain": [
       "2019-01-01   -2.010902\n",
       "2019-01-02   -2.010902\n",
       "2019-01-03   -2.010902\n",
       "2019-01-04   -2.010902\n",
       "2019-01-05    0.811922\n",
       "2019-01-06   -0.161604\n",
       "2019-01-07    1.224144\n",
       "2019-01-08   -1.695676\n",
       "2019-01-09   -0.912748\n",
       "2019-01-10    1.404750\n",
       "2019-01-11    0.658572\n",
       "2019-01-12    0.778649\n",
       "Freq: D, dtype: float64"
      ]
     },
     "execution_count": 100,
     "metadata": {},
     "output_type": "execute_result"
    }
   ],
   "source": [
    "ts.shift(3).fillna(method='backfill')"
   ]
  },
  {
   "cell_type": "code",
   "execution_count": 101,
   "metadata": {},
   "outputs": [
    {
     "data": {
      "text/plain": [
       "2019-01-01    1.224144\n",
       "2019-01-02   -1.695676\n",
       "2019-01-03   -0.912748\n",
       "2019-01-04    1.404750\n",
       "2019-01-05    0.658572\n",
       "2019-01-06    0.778649\n",
       "2019-01-07   -1.697634\n",
       "2019-01-08    0.764896\n",
       "2019-01-09   -1.066550\n",
       "2019-01-10   -1.066550\n",
       "2019-01-11   -1.066550\n",
       "2019-01-12   -1.066550\n",
       "Freq: D, dtype: float64"
      ]
     },
     "execution_count": 101,
     "metadata": {},
     "output_type": "execute_result"
    }
   ],
   "source": [
    "ts.shift(-3).fillna(method='pad')"
   ]
  }
 ],
 "metadata": {
  "kernelspec": {
   "display_name": "Python 3",
   "language": "python",
   "name": "python3"
  },
  "language_info": {
   "codemirror_mode": {
    "name": "ipython",
    "version": 3
   },
   "file_extension": ".py",
   "mimetype": "text/x-python",
   "name": "python",
   "nbconvert_exporter": "python",
   "pygments_lexer": "ipython3",
   "version": "3.6.2"
  }
 },
 "nbformat": 4,
 "nbformat_minor": 2
}
